{
 "cells": [
  {
   "cell_type": "code",
   "execution_count": 142,
   "metadata": {},
   "outputs": [],
   "source": [
    "import bs4\n",
    "import pandas as pd"
   ]
  },
  {
   "cell_type": "code",
   "execution_count": 143,
   "metadata": {},
   "outputs": [],
   "source": [
    "markup = open('ipcr_scheme_20150101.xml')\n",
    "soup = bs4.BeautifulSoup(markup, 'lxml-xml')"
   ]
  },
  {
   "cell_type": "code",
   "execution_count": 144,
   "metadata": {},
   "outputs": [],
   "source": [
    "KINDS = ['s', 'c', 'u', 'm', '1', '2', '3']\n",
    "KINDS_dict = {'s': 'section', 'c': 'class', 'u': 'subclass', 'm': 'group'\n",
    "              , '1': 'level 1', '2': 'level 2', '3': 'level 3'}"
   ]
  },
  {
   "cell_type": "markdown",
   "metadata": {},
   "source": [
    "* s -> section\n",
    "* c -> class\n",
    "* u -> subclass\n",
    "* m -> group\n",
    "* 1 -> subgroup level 1\n",
    "* 2 -> subgroup level 2\n",
    "* 3 -> subgroup level 3"
   ]
  },
  {
   "cell_type": "code",
   "execution_count": 145,
   "metadata": {},
   "outputs": [],
   "source": [
    "kind_s = soup.find_all('ipcEntry', kind=KINDS[0])"
   ]
  },
  {
   "cell_type": "markdown",
   "metadata": {},
   "source": [
    "* `kind_s[0:8]` -> A-H in English\n",
    "* `kind_s[8:]` -> A-H en francais"
   ]
  },
  {
   "cell_type": "code",
   "execution_count": 146,
   "metadata": {},
   "outputs": [],
   "source": [
    "def kind_write(kind_list, kind_index, f):\n",
    "    for kind in kind_list:\n",
    "        text = '; '.join(list(kind.title.stripped_strings))\n",
    "        line = str(kind['symbol']) + '& ' + str(KINDS_dict[KINDS[kind_index]]) + '& ' + text + '\\n'\n",
    "        f.write(line)\n",
    "        if kind_index < len(KINDS) - 1:\n",
    "            kind_new = kind.find_all('ipcEntry', kind=KINDS[kind_index + 1])\n",
    "            if kind_new:\n",
    "                kind_write(kind_new, kind_index + 1, f)"
   ]
  },
  {
   "cell_type": "code",
   "execution_count": 147,
   "metadata": {},
   "outputs": [],
   "source": [
    "with open('ipc.csv', 'w') as f:\n",
    "    kind_write(kind_s[0:8], 0, f)\n",
    "with open('ipc_fr.csv', 'w') as f:\n",
    "    kind_write(kind_s[8:], 0, f)"
   ]
  },
  {
   "cell_type": "code",
   "execution_count": 148,
   "metadata": {},
   "outputs": [],
   "source": [
    "def kind_write2(kind_list, kind_index, f, kind_tree=None):\n",
    "    for kind in kind_list:\n",
    "        if kind_tree is None:\n",
    "            kind_tree = []\n",
    "            for _ in KINDS:\n",
    "                kind_tree.append('')\n",
    "        kind_tree[kind_index] = kind['symbol']\n",
    "        for i in range(kind_index + 1, len(KINDS)):\n",
    "            kind_tree[i] = ''\n",
    "        text = '; '.join(list(kind.title.stripped_strings))\n",
    "        line = '& '.join(kind_tree) + '& ' + text + '\\n'\n",
    "        f.write(line)\n",
    "        if kind_index < len(KINDS) - 1:\n",
    "            kind_new = kind.find_all('ipcEntry', kind=KINDS[kind_index + 1])\n",
    "            if kind_new:\n",
    "                kind_write2(kind_new, kind_index + 1, f, kind_tree=kind_tree)"
   ]
  },
  {
   "cell_type": "code",
   "execution_count": 149,
   "metadata": {},
   "outputs": [],
   "source": [
    "with open('ipc2.csv', 'w') as f:\n",
    "    columns = []\n",
    "    for i in KINDS:\n",
    "        columns.append(KINDS_dict[i])\n",
    "    columns.append('title \\n')\n",
    "    f.write('& '.join(columns))\n",
    "    kind_write2(kind_s[:8], 0, f)"
   ]
  }
 ],
 "metadata": {
  "kernelspec": {
   "display_name": "Python 3",
   "language": "python",
   "name": "python3"
  }
 },
 "nbformat": 4,
 "nbformat_minor": 2
}
